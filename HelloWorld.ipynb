{
 "metadata": {
  "language_info": {
   "codemirror_mode": {
    "name": "ipython",
    "version": 3
   },
   "file_extension": ".py",
   "mimetype": "text/x-python",
   "name": "python",
   "nbconvert_exporter": "python",
   "pygments_lexer": "ipython3",
   "version": 3
  },
  "orig_nbformat": 2,
  "kernelspec": {
   "name": "python_defaultSpec_1595328768214",
   "display_name": "Python 3.7.6 64-bit ('base': conda)"
  }
 },
 "nbformat": 4,
 "nbformat_minor": 2,
 "cells": [
  {
   "cell_type": "code",
   "execution_count": 1,
   "metadata": {
    "tags": []
   },
   "outputs": [
    {
     "output_type": "stream",
     "name": "stdout",
     "text": "hello\n"
    }
   ],
   "source": [
    "print(\"hello\")"
   ]
  },
  {
   "cell_type": "code",
   "execution_count": 61,
   "metadata": {
    "tags": []
   },
   "outputs": [
    {
     "output_type": "stream",
     "name": "stdout",
     "text": "hahaha2\n"
    }
   ],
   "source": [
    "List=[1,2,3]    #列表\n",
    "Tup=(1,2,3)     #元组\n",
    "Dict={'frist':1,'second':2}     #字典\n",
    "a={1,2,3}       #集合\n",
    "\n",
    "print(f'hahaha{List[1]}')"
   ]
  },
  {
   "cell_type": "code",
   "execution_count": 27,
   "metadata": {
    "tags": []
   },
   "outputs": [],
   "source": [
    "import sys\n",
    " \n",
    "def fibonacci(n): # 生成器函数 - 斐波那契\n",
    "    a, b, counter = 0, 1, 0\n",
    "    while True:\n",
    "        if (counter > n): \n",
    "            return\n",
    "        yield a\n",
    "        a, b = b, a + b\n",
    "        counter += 1\n",
    "f = fibonacci(100) # f 是一个迭代器，由生成器返回生成\n",
    "\n",
    "for i in range (0,5):\n",
    "    print(next(f))\n"
   ]
  },
  {
   "cell_type": "code",
   "execution_count": 58,
   "metadata": {
    "tags": []
   },
   "outputs": [
    {
     "output_type": "stream",
     "name": "stdout",
     "text": "3,4\n6,11\n5.0\n"
    }
   ],
   "source": [
    "import cmath\n",
    "class vector:   #运算符重载\n",
    "    def __init__(self,a,b):\n",
    "        self.a=a\n",
    "        self.b=b\n",
    "    def __str__(self):\n",
    "        return f'{self.a},{self.b}'\n",
    "    def __add__(self,other):\n",
    "        return vector(self.a + other.a, self.b + other.b)\n",
    "    def Length(self):\n",
    "        return cmath.sqrt(self.a**2+self.b**2).real\n",
    "\n",
    "v1=vector(3,4)\n",
    "v2=vector(3,7)\n",
    "print(v1)\n",
    "print(v1+v2)\n",
    "print(v1.Length())"
   ]
  },
  {
   "cell_type": "code",
   "execution_count": 62,
   "metadata": {
    "tags": []
   },
   "outputs": [
    {
     "output_type": "stream",
     "name": "stdout",
     "text": "2 1\n"
    }
   ],
   "source": [
    "a=1\n",
    "b=2\n",
    "a,b=b,a\n",
    "print(a,b)"
   ]
  },
  {
   "cell_type": "code",
   "execution_count": 70,
   "metadata": {
    "tags": []
   },
   "outputs": [
    {
     "output_type": "stream",
     "name": "stdout",
     "text": "True\n"
    }
   ],
   "source": [
    "def isPalindrome(x: int) -> bool: #回文数判断\n",
    "        original_num=x\n",
    "        reversed_num = 0\n",
    "        while x > 0:\n",
    "            reversed_num = reversed_num * 10 + x % 10\n",
    "            x //= 10\n",
    "        if (reversed_num==original_num):\n",
    "            return True\n",
    "        else:\n",
    "            return False\n",
    "\n",
    "print(isPalindrome(121))"
   ]
  },
  {
   "cell_type": "code",
   "execution_count": 110,
   "metadata": {
    "tags": []
   },
   "outputs": [
    {
     "output_type": "stream",
     "name": "stdout",
     "text": "1*\n"
    }
   ],
   "source": [
    "        n=2\n",
    "        ans='1*'\n",
    "        if(n==1):\n",
    "            print(ans)\n",
    "        else:\n",
    "            for i in range(1,n):\n",
    "                k=0\n",
    "                j=k*2\n",
    "                while(ans[j]==ans[j+1] and j+1<=len(ans)):\n",
    "                    k=k+1\n",
    "                    j=j+1\n",
    "                    ans=str(j+1)+ans[j]\n",
    "            print(ans)"
   ]
  }
 ]
}