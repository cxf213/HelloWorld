{
 "metadata": {
  "language_info": {
   "codemirror_mode": {
    "name": "ipython",
    "version": 3
   },
   "file_extension": ".py",
   "mimetype": "text/x-python",
   "name": "python",
   "nbconvert_exporter": "python",
   "pygments_lexer": "ipython3",
   "version": 3
  },
  "orig_nbformat": 2,
  "kernelspec": {
   "name": "python_defaultSpec_1595481485684",
   "display_name": "Python 3.7.6 64-bit ('base': conda)"
  }
 },
 "nbformat": 4,
 "nbformat_minor": 2,
 "cells": [
  {
   "cell_type": "code",
   "execution_count": 1,
   "metadata": {
    "tags": []
   },
   "outputs": [
    {
     "output_type": "stream",
     "name": "stdout",
     "text": "hello\n"
    }
   ],
   "source": [
    "print(\"hello\")"
   ]
  },
  {
   "cell_type": "code",
   "execution_count": 61,
   "metadata": {
    "tags": []
   },
   "outputs": [
    {
     "output_type": "stream",
     "name": "stdout",
     "text": "hahaha2\n"
    }
   ],
   "source": [
    "List=[1,2,3]                    #列表\n",
    "Tup=(1,2,3)                     #元组\n",
    "Dict={'frist':1,'second':2}     #字典\n",
    "a={1,2,3}                       #集合\n",
    "\n",
    "print(f'hahaha{List[1]}')"
   ]
  },
  {
   "cell_type": "code",
   "execution_count": 27,
   "metadata": {
    "tags": []
   },
   "outputs": [],
   "source": [
    "import sys\n",
    " \n",
    "def fibonacci(n):           # 生成器函数 - 斐波那契\n",
    "    a, b, counter = 0, 1, 0\n",
    "    while True:\n",
    "        if (counter > n): \n",
    "            return\n",
    "        yield a\n",
    "        a, b = b, a + b\n",
    "        counter += 1\n",
    "f = fibonacci(100)           # f 是一个迭代器，由生成器返回生成\n",
    "\n",
    "for i in range (0,5):\n",
    "    print(next(f))\n"
   ]
  },
  {
   "cell_type": "code",
   "execution_count": 58,
   "metadata": {
    "tags": []
   },
   "outputs": [
    {
     "output_type": "stream",
     "name": "stdout",
     "text": "3,4\n6,11\n5.0\n"
    }
   ],
   "source": [
    "import cmath\n",
    "class vector:   #运算符重载,向量的实现\n",
    "    def __init__(self,a,b):\n",
    "        self.a=a\n",
    "        self.b=b\n",
    "    def __str__(self):\n",
    "        return f'{self.a},{self.b}'\n",
    "    def __add__(self,other):\n",
    "        return vector(self.a + other.a, self.b + other.b)\n",
    "    def Length(self):\n",
    "        return cmath.sqrt(self.a**2+self.b**2).real\n",
    "\n",
    "v1=vector(3,4)\n",
    "v2=vector(3,7)\n",
    "print(v1)\n",
    "print(v1+v2)\n",
    "print(v1.Length())"
   ]
  },
  {
   "cell_type": "code",
   "execution_count": 4,
   "metadata": {
    "tags": []
   },
   "outputs": [
    {
     "output_type": "stream",
     "name": "stdout",
     "text": "2 3\n"
    }
   ],
   "source": [
    "x=3\n",
    "y=2\n",
    "(x, y) = (y, x) if x > y else (x, y)\n",
    "print(x,y)"
   ]
  },
  {
   "cell_type": "code",
   "execution_count": 40,
   "metadata": {
    "tags": []
   },
   "outputs": [
    {
     "output_type": "stream",
     "name": "stdout",
     "text": "\\d\n格式化字符 你好 格式化数字 2020\nf字符串: 无视转义符\nformat应用:第一 第二 第一\n数字format: +3.14(保留小数) \n           xxx2020(向左补全x,7位为止)\n           2020(补空格)\n"
    }
   ],
   "source": [
    "#字符串格式化\n",
    "a=r'无视转义符\\d'\n",
    "print(a[5:8])#左闭右开原则\n",
    "print('格式化字符 %s 格式化数字 %d'%('你好',2020))\n",
    "print(f'f字符串: {a[0:5]}')\n",
    "print('format应用:{0} {1} {0}'.format(\"第一\",'第二'))\n",
    "print('数字format: {0:+.2f}(保留小数) \\n           {1:x>7d}(向左补全x,7位为止)'.format(3.14159,2020))\n",
    "print('{0:>15d}(补空格)'.format(2020))"
   ]
  },
  {
   "cell_type": "code",
   "execution_count": 48,
   "metadata": {
    "tags": []
   },
   "outputs": [
    {
     "output_type": "stream",
     "name": "stdout",
     "text": "4321\n"
    }
   ],
   "source": [
    "c='1234'\n",
    "print(c[::-1])"
   ]
  },
  {
   "cell_type": "code",
   "execution_count": 2,
   "metadata": {},
   "outputs": [],
   "source": [
    "class Node:\n",
    "    def __init__(self,key,val,N,color):\n",
    "        self.val = val\n",
    "        self.color = color\n",
    "        self.left = None\n",
    "        self.right = None\n",
    "    def set_red(self):\n",
    "        self.color='Red'\n",
    "    def set_black(self):\n",
    "        self.color='Black'\n",
    "    def is_red(self):\n",
    "        return self.color=='Red'\n"
   ]
  }
 ]
}